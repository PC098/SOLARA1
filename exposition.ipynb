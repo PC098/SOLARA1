{
 "cells": [
  {
   "cell_type": "code",
   "execution_count": 6,
   "id": "f7089ac0-47ec-4918-bf2d-7b7d7465e39b",
   "metadata": {},
   "outputs": [
    {
     "name": "stdout",
     "output_type": "stream",
     "text": [
      "Requirement already satisfied: solara in c:\\users\\san23\\appdata\\local\\programs\\python\\python312\\lib\\site-packages (1.44.1)\n",
      "Requirement already satisfied: solara-server==1.44.1 in c:\\users\\san23\\appdata\\local\\programs\\python\\python312\\lib\\site-packages (from solara-server[dev,starlette]==1.44.1->solara) (1.44.1)\n",
      "Requirement already satisfied: solara-ui==1.44.1 in c:\\users\\san23\\appdata\\local\\programs\\python\\python312\\lib\\site-packages (from solara-ui[all]==1.44.1->solara) (1.44.1)\n",
      "Requirement already satisfied: click>=7.1.0 in c:\\users\\san23\\appdata\\local\\programs\\python\\python312\\lib\\site-packages (from solara-server==1.44.1->solara-server[dev,starlette]==1.44.1->solara) (8.1.8)\n",
      "Requirement already satisfied: filelock in c:\\users\\san23\\appdata\\local\\programs\\python\\python312\\lib\\site-packages (from solara-server==1.44.1->solara-server[dev,starlette]==1.44.1->solara) (3.17.0)\n",
      "Requirement already satisfied: ipykernel in c:\\users\\san23\\appdata\\local\\programs\\python\\python312\\lib\\site-packages (from solara-server==1.44.1->solara-server[dev,starlette]==1.44.1->solara) (6.29.5)\n",
      "Requirement already satisfied: jinja2 in c:\\users\\san23\\appdata\\local\\programs\\python\\python312\\lib\\site-packages (from solara-server==1.44.1->solara-server[dev,starlette]==1.44.1->solara) (3.1.5)\n",
      "Requirement already satisfied: jupyter-client in c:\\users\\san23\\appdata\\local\\programs\\python\\python312\\lib\\site-packages (from solara-server==1.44.1->solara-server[dev,starlette]==1.44.1->solara) (8.6.3)\n",
      "Requirement already satisfied: nbformat in c:\\users\\san23\\appdata\\local\\programs\\python\\python312\\lib\\site-packages (from solara-server==1.44.1->solara-server[dev,starlette]==1.44.1->solara) (5.10.4)Note: you may need to restart the kernel to use updated packages.\n",
      "Requirement already satisfied: rich-click in c:\\users\\san23\\appdata\\local\\programs\\python\\python312\\lib\\site-packages (from solara-server==1.44.1->solara-server[dev,starlette]==1.44.1->solara) (1.8.6)\n",
      "\n",
      "Requirement already satisfied: watchdog in c:\\users\\san23\\appdata\\local\\programs\\python\\python312\\lib\\site-packages (from solara-server[dev,starlette]==1.44.1->solara) (6.0.0)\n",
      "Requirement already satisfied: watchfiles in c:\\users\\san23\\appdata\\local\\programs\\python\\python312\\lib\\site-packages (from solara-server[dev,starlette]==1.44.1->solara) (1.0.4)\n",
      "Requirement already satisfied: starlette in c:\\users\\san23\\appdata\\local\\programs\\python\\python312\\lib\\site-packages (from solara-server[dev,starlette]==1.44.1->solara) (0.46.0)\n",
      "Requirement already satisfied: uvicorn in c:\\users\\san23\\appdata\\local\\programs\\python\\python312\\lib\\site-packages (from solara-server[dev,starlette]==1.44.1->solara) (0.34.0)\n",
      "Requirement already satisfied: websockets in c:\\users\\san23\\appdata\\local\\programs\\python\\python312\\lib\\site-packages (from solara-server[dev,starlette]==1.44.1->solara) (15.0)\n",
      "Requirement already satisfied: humanize in c:\\users\\san23\\appdata\\local\\programs\\python\\python312\\lib\\site-packages (from solara-ui==1.44.1->solara-ui[all]==1.44.1->solara) (4.12.1)\n",
      "Requirement already satisfied: ipyvue>=1.9.0 in c:\\users\\san23\\appdata\\local\\programs\\python\\python312\\lib\\site-packages (from solara-ui==1.44.1->solara-ui[all]==1.44.1->solara) (1.11.2)\n",
      "Requirement already satisfied: ipyvuetify>=1.6.10 in c:\\users\\san23\\appdata\\local\\programs\\python\\python312\\lib\\site-packages (from solara-ui==1.44.1->solara-ui[all]==1.44.1->solara) (1.11.0)\n",
      "Requirement already satisfied: ipywidgets>=7.7 in c:\\users\\san23\\appdata\\local\\programs\\python\\python312\\lib\\site-packages (from solara-ui==1.44.1->solara-ui[all]==1.44.1->solara) (8.1.5)\n",
      "Requirement already satisfied: reacton>=1.9 in c:\\users\\san23\\appdata\\local\\programs\\python\\python312\\lib\\site-packages (from solara-ui==1.44.1->solara-ui[all]==1.44.1->solara) (1.9.1)\n",
      "Requirement already satisfied: requests in c:\\users\\san23\\appdata\\local\\programs\\python\\python312\\lib\\site-packages (from solara-ui==1.44.1->solara-ui[all]==1.44.1->solara) (2.32.3)\n",
      "Requirement already satisfied: cachetools in c:\\users\\san23\\appdata\\local\\programs\\python\\python312\\lib\\site-packages (from solara-ui[all]==1.44.1->solara) (5.5.2)\n",
      "Requirement already satisfied: markdown in c:\\users\\san23\\appdata\\local\\programs\\python\\python312\\lib\\site-packages (from solara-ui[all]==1.44.1->solara) (3.7)\n",
      "Requirement already satisfied: numpy in c:\\users\\san23\\appdata\\local\\programs\\python\\python312\\lib\\site-packages (from solara-ui[all]==1.44.1->solara) (2.2.3)\n",
      "Requirement already satisfied: pillow in c:\\users\\san23\\appdata\\local\\programs\\python\\python312\\lib\\site-packages (from solara-ui[all]==1.44.1->solara) (11.1.0)\n",
      "Requirement already satisfied: pygments in c:\\users\\san23\\appdata\\local\\programs\\python\\python312\\lib\\site-packages (from solara-ui[all]==1.44.1->solara) (2.18.0)\n",
      "Requirement already satisfied: pymdown-extensions in c:\\users\\san23\\appdata\\local\\programs\\python\\python312\\lib\\site-packages (from solara-ui[all]==1.44.1->solara) (10.14.3)\n",
      "Requirement already satisfied: colorama in c:\\users\\san23\\appdata\\local\\programs\\python\\python312\\lib\\site-packages (from click>=7.1.0->solara-server==1.44.1->solara-server[dev,starlette]==1.44.1->solara) (0.4.6)\n",
      "Requirement already satisfied: comm>=0.1.3 in c:\\users\\san23\\appdata\\local\\programs\\python\\python312\\lib\\site-packages (from ipywidgets>=7.7->solara-ui==1.44.1->solara-ui[all]==1.44.1->solara) (0.2.2)\n",
      "Requirement already satisfied: ipython>=6.1.0 in c:\\users\\san23\\appdata\\local\\programs\\python\\python312\\lib\\site-packages (from ipywidgets>=7.7->solara-ui==1.44.1->solara-ui[all]==1.44.1->solara) (8.31.0)\n",
      "Requirement already satisfied: traitlets>=4.3.1 in c:\\users\\san23\\appdata\\local\\programs\\python\\python312\\lib\\site-packages (from ipywidgets>=7.7->solara-ui==1.44.1->solara-ui[all]==1.44.1->solara) (5.14.3)\n",
      "Requirement already satisfied: widgetsnbextension~=4.0.12 in c:\\users\\san23\\appdata\\local\\programs\\python\\python312\\lib\\site-packages (from ipywidgets>=7.7->solara-ui==1.44.1->solara-ui[all]==1.44.1->solara) (4.0.13)\n",
      "Requirement already satisfied: jupyterlab-widgets~=3.0.12 in c:\\users\\san23\\appdata\\local\\programs\\python\\python312\\lib\\site-packages (from ipywidgets>=7.7->solara-ui==1.44.1->solara-ui[all]==1.44.1->solara) (3.0.13)\n",
      "Requirement already satisfied: typing-extensions>=4.1.1 in c:\\users\\san23\\appdata\\local\\programs\\python\\python312\\lib\\site-packages (from reacton>=1.9->solara-ui==1.44.1->solara-ui[all]==1.44.1->solara) (4.12.2)\n",
      "Requirement already satisfied: debugpy>=1.6.5 in c:\\users\\san23\\appdata\\local\\programs\\python\\python312\\lib\\site-packages (from ipykernel->solara-server==1.44.1->solara-server[dev,starlette]==1.44.1->solara) (1.8.11)\n",
      "Requirement already satisfied: jupyter-core!=5.0.*,>=4.12 in c:\\users\\san23\\appdata\\local\\programs\\python\\python312\\lib\\site-packages (from ipykernel->solara-server==1.44.1->solara-server[dev,starlette]==1.44.1->solara) (5.7.2)\n",
      "Requirement already satisfied: matplotlib-inline>=0.1 in c:\\users\\san23\\appdata\\local\\programs\\python\\python312\\lib\\site-packages (from ipykernel->solara-server==1.44.1->solara-server[dev,starlette]==1.44.1->solara) (0.1.7)\n",
      "Requirement already satisfied: nest-asyncio in c:\\users\\san23\\appdata\\local\\programs\\python\\python312\\lib\\site-packages (from ipykernel->solara-server==1.44.1->solara-server[dev,starlette]==1.44.1->solara) (1.6.0)\n",
      "Requirement already satisfied: packaging in c:\\users\\san23\\appdata\\local\\programs\\python\\python312\\lib\\site-packages (from ipykernel->solara-server==1.44.1->solara-server[dev,starlette]==1.44.1->solara) (24.2)\n",
      "Requirement already satisfied: psutil in c:\\users\\san23\\appdata\\local\\programs\\python\\python312\\lib\\site-packages (from ipykernel->solara-server==1.44.1->solara-server[dev,starlette]==1.44.1->solara) (6.1.1)\n",
      "Requirement already satisfied: pyzmq>=24 in c:\\users\\san23\\appdata\\local\\programs\\python\\python312\\lib\\site-packages (from ipykernel->solara-server==1.44.1->solara-server[dev,starlette]==1.44.1->solara) (26.2.0)\n",
      "Requirement already satisfied: tornado>=6.1 in c:\\users\\san23\\appdata\\local\\programs\\python\\python312\\lib\\site-packages (from ipykernel->solara-server==1.44.1->solara-server[dev,starlette]==1.44.1->solara) (6.4.2)\n",
      "Requirement already satisfied: python-dateutil>=2.8.2 in c:\\users\\san23\\appdata\\local\\programs\\python\\python312\\lib\\site-packages (from jupyter-client->solara-server==1.44.1->solara-server[dev,starlette]==1.44.1->solara) (2.9.0.post0)\n",
      "Requirement already satisfied: MarkupSafe>=2.0 in c:\\users\\san23\\appdata\\local\\programs\\python\\python312\\lib\\site-packages (from jinja2->solara-server==1.44.1->solara-server[dev,starlette]==1.44.1->solara) (3.0.2)\n",
      "Requirement already satisfied: fastjsonschema>=2.15 in c:\\users\\san23\\appdata\\local\\programs\\python\\python312\\lib\\site-packages (from nbformat->solara-server==1.44.1->solara-server[dev,starlette]==1.44.1->solara) (2.21.1)\n",
      "Requirement already satisfied: jsonschema>=2.6 in c:\\users\\san23\\appdata\\local\\programs\\python\\python312\\lib\\site-packages (from nbformat->solara-server==1.44.1->solara-server[dev,starlette]==1.44.1->solara) (4.23.0)\n",
      "Requirement already satisfied: pyyaml in c:\\users\\san23\\appdata\\local\\programs\\python\\python312\\lib\\site-packages (from pymdown-extensions->solara-ui[all]==1.44.1->solara) (6.0.2)\n",
      "Requirement already satisfied: charset-normalizer<4,>=2 in c:\\users\\san23\\appdata\\local\\programs\\python\\python312\\lib\\site-packages (from requests->solara-ui==1.44.1->solara-ui[all]==1.44.1->solara) (3.4.1)\n",
      "Requirement already satisfied: idna<4,>=2.5 in c:\\users\\san23\\appdata\\local\\programs\\python\\python312\\lib\\site-packages (from requests->solara-ui==1.44.1->solara-ui[all]==1.44.1->solara) (3.10)\n",
      "Requirement already satisfied: urllib3<3,>=1.21.1 in c:\\users\\san23\\appdata\\local\\programs\\python\\python312\\lib\\site-packages (from requests->solara-ui==1.44.1->solara-ui[all]==1.44.1->solara) (2.3.0)\n",
      "Requirement already satisfied: certifi>=2017.4.17 in c:\\users\\san23\\appdata\\local\\programs\\python\\python312\\lib\\site-packages (from requests->solara-ui==1.44.1->solara-ui[all]==1.44.1->solara) (2024.12.14)\n",
      "Requirement already satisfied: rich>=10.7 in c:\\users\\san23\\appdata\\local\\programs\\python\\python312\\lib\\site-packages (from rich-click->solara-server==1.44.1->solara-server[dev,starlette]==1.44.1->solara) (13.9.4)\n",
      "Requirement already satisfied: anyio<5,>=3.6.2 in c:\\users\\san23\\appdata\\local\\programs\\python\\python312\\lib\\site-packages (from starlette->solara-server[dev,starlette]==1.44.1->solara) (4.7.0)\n",
      "Requirement already satisfied: h11>=0.8 in c:\\users\\san23\\appdata\\local\\programs\\python\\python312\\lib\\site-packages (from uvicorn->solara-server[dev,starlette]==1.44.1->solara) (0.14.0)\n",
      "Requirement already satisfied: sniffio>=1.1 in c:\\users\\san23\\appdata\\local\\programs\\python\\python312\\lib\\site-packages (from anyio<5,>=3.6.2->starlette->solara-server[dev,starlette]==1.44.1->solara) (1.3.1)\n",
      "Requirement already satisfied: decorator in c:\\users\\san23\\appdata\\local\\programs\\python\\python312\\lib\\site-packages (from ipython>=6.1.0->ipywidgets>=7.7->solara-ui==1.44.1->solara-ui[all]==1.44.1->solara) (5.1.1)\n",
      "Requirement already satisfied: jedi>=0.16 in c:\\users\\san23\\appdata\\local\\programs\\python\\python312\\lib\\site-packages (from ipython>=6.1.0->ipywidgets>=7.7->solara-ui==1.44.1->solara-ui[all]==1.44.1->solara) (0.19.2)\n",
      "Requirement already satisfied: prompt_toolkit<3.1.0,>=3.0.41 in c:\\users\\san23\\appdata\\local\\programs\\python\\python312\\lib\\site-packages (from ipython>=6.1.0->ipywidgets>=7.7->solara-ui==1.44.1->solara-ui[all]==1.44.1->solara) (3.0.48)\n",
      "Requirement already satisfied: stack_data in c:\\users\\san23\\appdata\\local\\programs\\python\\python312\\lib\\site-packages (from ipython>=6.1.0->ipywidgets>=7.7->solara-ui==1.44.1->solara-ui[all]==1.44.1->solara) (0.6.3)\n",
      "Requirement already satisfied: attrs>=22.2.0 in c:\\users\\san23\\appdata\\local\\programs\\python\\python312\\lib\\site-packages (from jsonschema>=2.6->nbformat->solara-server==1.44.1->solara-server[dev,starlette]==1.44.1->solara) (24.3.0)\n",
      "Requirement already satisfied: jsonschema-specifications>=2023.03.6 in c:\\users\\san23\\appdata\\local\\programs\\python\\python312\\lib\\site-packages (from jsonschema>=2.6->nbformat->solara-server==1.44.1->solara-server[dev,starlette]==1.44.1->solara) (2024.10.1)\n",
      "Requirement already satisfied: referencing>=0.28.4 in c:\\users\\san23\\appdata\\local\\programs\\python\\python312\\lib\\site-packages (from jsonschema>=2.6->nbformat->solara-server==1.44.1->solara-server[dev,starlette]==1.44.1->solara) (0.35.1)\n",
      "Requirement already satisfied: rpds-py>=0.7.1 in c:\\users\\san23\\appdata\\local\\programs\\python\\python312\\lib\\site-packages (from jsonschema>=2.6->nbformat->solara-server==1.44.1->solara-server[dev,starlette]==1.44.1->solara) (0.22.3)\n",
      "Requirement already satisfied: platformdirs>=2.5 in c:\\users\\san23\\appdata\\local\\programs\\python\\python312\\lib\\site-packages (from jupyter-core!=5.0.*,>=4.12->ipykernel->solara-server==1.44.1->solara-server[dev,starlette]==1.44.1->solara) (4.3.6)\n",
      "Requirement already satisfied: pywin32>=300 in c:\\users\\san23\\appdata\\local\\programs\\python\\python312\\lib\\site-packages (from jupyter-core!=5.0.*,>=4.12->ipykernel->solara-server==1.44.1->solara-server[dev,starlette]==1.44.1->solara) (308)\n",
      "Requirement already satisfied: six>=1.5 in c:\\users\\san23\\appdata\\local\\programs\\python\\python312\\lib\\site-packages (from python-dateutil>=2.8.2->jupyter-client->solara-server==1.44.1->solara-server[dev,starlette]==1.44.1->solara) (1.17.0)\n",
      "Requirement already satisfied: markdown-it-py>=2.2.0 in c:\\users\\san23\\appdata\\local\\programs\\python\\python312\\lib\\site-packages (from rich>=10.7->rich-click->solara-server==1.44.1->solara-server[dev,starlette]==1.44.1->solara) (3.0.0)\n",
      "Requirement already satisfied: parso<0.9.0,>=0.8.4 in c:\\users\\san23\\appdata\\local\\programs\\python\\python312\\lib\\site-packages (from jedi>=0.16->ipython>=6.1.0->ipywidgets>=7.7->solara-ui==1.44.1->solara-ui[all]==1.44.1->solara) (0.8.4)\n",
      "Requirement already satisfied: mdurl~=0.1 in c:\\users\\san23\\appdata\\local\\programs\\python\\python312\\lib\\site-packages (from markdown-it-py>=2.2.0->rich>=10.7->rich-click->solara-server==1.44.1->solara-server[dev,starlette]==1.44.1->solara) (0.1.2)\n",
      "Requirement already satisfied: wcwidth in c:\\users\\san23\\appdata\\local\\programs\\python\\python312\\lib\\site-packages (from prompt_toolkit<3.1.0,>=3.0.41->ipython>=6.1.0->ipywidgets>=7.7->solara-ui==1.44.1->solara-ui[all]==1.44.1->solara) (0.2.13)\n",
      "Requirement already satisfied: executing>=1.2.0 in c:\\users\\san23\\appdata\\local\\programs\\python\\python312\\lib\\site-packages (from stack_data->ipython>=6.1.0->ipywidgets>=7.7->solara-ui==1.44.1->solara-ui[all]==1.44.1->solara) (2.1.0)\n",
      "Requirement already satisfied: asttokens>=2.1.0 in c:\\users\\san23\\appdata\\local\\programs\\python\\python312\\lib\\site-packages (from stack_data->ipython>=6.1.0->ipywidgets>=7.7->solara-ui==1.44.1->solara-ui[all]==1.44.1->solara) (3.0.0)\n",
      "Requirement already satisfied: pure-eval in c:\\users\\san23\\appdata\\local\\programs\\python\\python312\\lib\\site-packages (from stack_data->ipython>=6.1.0->ipywidgets>=7.7->solara-ui==1.44.1->solara-ui[all]==1.44.1->solara) (0.2.3)\n"
     ]
    }
   ],
   "source": [
    "pip install solara"
   ]
  },
  {
   "cell_type": "code",
   "execution_count": 18,
   "id": "fd39373c-4453-4425-9b12-db5f5b89add2",
   "metadata": {},
   "outputs": [
    {
     "data": {
      "application/vnd.jupyter.widget-view+json": {
       "model_id": "7905be8784394bb4a4c1d8ad84f7e277",
       "version_major": 2,
       "version_minor": 0
      },
      "text/html": [
       "Cannot show widget. You probably want to rerun the code cell above (<i>Click in the code cell, and press Shift+Enter <kbd>⇧</kbd>+<kbd>↩</kbd></i>)."
      ],
      "text/plain": [
       "Cannot show ipywidgets in text"
      ]
     },
     "metadata": {},
     "output_type": "display_data"
    }
   ],
   "source": [
    "import solara\n",
    "\n",
    "@solara.component\n",
    "def Page():\n",
    "    name, set_name = solara.use_state(\"Happy\")  # Unpack tuple correctly\n",
    "    solara.InputText(\"Enter your name:\", value=name, on_value=set_name)  # Bind state updates\n",
    "    solara.Button(\"Greet\", on_click=lambda: print(f\"Hello, {name}!\"))\n",
    "    solara.Text(f\"Hello, {name}!\")\n",
    "\n",
    "solara.display(Page())\n"
   ]
  },
  {
   "cell_type": "code",
   "execution_count": 14,
   "id": "63393fc6-1560-4690-8f80-63d601ee4db0",
   "metadata": {},
   "outputs": [
    {
     "data": {
      "application/vnd.jupyter.widget-view+json": {
       "model_id": "ed45e2c117d146aea4046c41a21878b3",
       "version_major": 2,
       "version_minor": 0
      },
      "text/html": [
       "Cannot show widget. You probably want to rerun the code cell above (<i>Click in the code cell, and press Shift+Enter <kbd>⇧</kbd>+<kbd>↩</kbd></i>)."
      ],
      "text/plain": [
       "Cannot show ipywidgets in text"
      ]
     },
     "metadata": {},
     "output_type": "display_data"
    },
    {
     "data": {
      "image/png": "[encoded data removed]",
      "text/plain": [
       "<Figure size 640x480 with 1 Axes>"
      ]
     },
     "metadata": {},
     "output_type": "display_data"
    }
   ],
   "source": [
    "import solara\n",
    "import matplotlib.pyplot as plt\n",
    "import numpy as np\n",
    "\n",
    "@solara.component\n",
    "def Page():\n",
    "    a, set_a = solara.use_state(1.0)\n",
    "    b, set_b = solara.use_state(0.0)\n",
    "\n",
    "    x = np.linspace(-10, 10, 100)\n",
    "    y = a * x + b\n",
    "\n",
    "    fig, ax = plt.subplots()\n",
    "    ax.plot(x, y)\n",
    "    solara.FigureMatplotlib(fig)\n",
    "\n",
    "    solara.SliderFloat(\"Slope (a)\", value=a, min=-5, max=5, on_value=set_a)\n",
    "    solara.SliderFloat(\"Intercept (b)\", value=b, min=-5, max=5, on_value=set_b)\n",
    "\n",
    "solara.display(Page())\n"
   ]
  },
  {
   "cell_type": "code",
   "execution_count": 20,
   "id": "afa1786d-5d1a-4c59-b010-85766dda731e",
   "metadata": {},
   "outputs": [
    {
     "data": {
      "application/vnd.jupyter.widget-view+json": {
       "model_id": "3f57778cde214fbe800954b523a72e1c",
       "version_major": 2,
       "version_minor": 0
      },
      "text/html": [
       "Cannot show widget. You probably want to rerun the code cell above (<i>Click in the code cell, and press Shift+Enter <kbd>⇧</kbd>+<kbd>↩</kbd></i>)."
      ],
      "text/plain": [
       "Cannot show ipywidgets in text"
      ]
     },
     "metadata": {},
     "output_type": "display_data"
    }
   ],
   "source": [
    "@solara.component\n",
    "def ThemeToggle():\n",
    "    dark_mode, set_dark_mode = solara.use_state(False)  # ✅ State for dark mode\n",
    "\n",
    "    solara.Button(\"Toggle Theme\", on_click=lambda: set_dark_mode(not dark_mode))  # ✅ Toggle theme\n",
    "    if dark_mode:\n",
    "        solara.Text(\"🌙 Dark Mode Activated\", style={\"color\": \"white\", \"background\": \"black\", \"padding\": \"10px\"})\n",
    "    else:\n",
    "        solara.Text(\"☀ Light Mode Activated\", style={\"color\": \"black\", \"background\": \"yellow\", \"padding\": \"10px\"})\n",
    "\n",
    "ThemeToggle()\n"
   ]
  },
  {
   "cell_type": "code",
   "execution_count": 21,
   "id": "0a1c97ba-ce8e-42a2-b214-aa47eb41e1eb",
   "metadata": {},
   "outputs": [
    {
     "data": {
      "application/vnd.jupyter.widget-view+json": {
       "model_id": "049ad9fb8c2940f085d20e4bb29994b5",
       "version_major": 2,
       "version_minor": 0
      },
      "text/html": [
       "Cannot show widget. You probably want to rerun the code cell above (<i>Click in the code cell, and press Shift+Enter <kbd>⇧</kbd>+<kbd>↩</kbd></i>)."
      ],
      "text/plain": [
       "Cannot show ipywidgets in text"
      ]
     },
     "metadata": {},
     "output_type": "display_data"
    }
   ],
   "source": [
    "@solara.component\n",
    "def TodoApp():\n",
    "    tasks, set_tasks = solara.use_state([])  # ✅ Store tasks as a list\n",
    "    new_task, set_new_task = solara.use_state(\"\")  # ✅ Store new task input\n",
    "\n",
    "    def add_task():\n",
    "        if new_task.strip():\n",
    "            set_tasks(tasks + [new_task])  # ✅ Add new task to list\n",
    "            set_new_task(\"\")  # ✅ Clear input after adding\n",
    "\n",
    "    solara.InputText(\"New Task\", value=new_task, on_value=set_new_task)  # ✅ Input box\n",
    "    solara.Button(\"Add Task\", on_click=add_task)  # ✅ Add task button\n",
    "\n",
    "    for task in tasks:\n",
    "        solara.Text(f\"✔ {task}\")  # ✅ Display each task\n",
    "\n",
    "TodoApp()\n"
   ]
  },
  {
   "cell_type": "code",
   "execution_count": 25,
   "id": "b8e9823f-81b1-462a-b802-ba54e36a6164",
   "metadata": {},
   "outputs": [
    {
     "data": {
      "application/vnd.jupyter.widget-view+json": {
       "model_id": "dc2032bf097e4a5ab298e95e0fc92f41",
       "version_major": 2,
       "version_minor": 0
      },
      "text/html": [
       "Cannot show widget. You probably want to rerun the code cell above (<i>Click in the code cell, and press Shift+Enter <kbd>⇧</kbd>+<kbd>↩</kbd></i>)."
      ],
      "text/plain": [
       "Cannot show ipywidgets in text"
      ]
     },
     "metadata": {},
     "output_type": "display_data"
    }
   ],
   "source": [
    "@solara.component\n",
    "def Counter():\n",
    "    count, set_count = solara.use_state(0)  # ✅ Initialize count as 0\n",
    "    \n",
    "    solara.Text(f\"Count: {count}\")  # ✅ Display count\n",
    "    solara.Button(\"Increase\", on_click=lambda: set_count(count + 1))  # ✅ Increment count on click\n",
    "\n",
    "Counter()"
   ]
  },
  {
   "cell_type": "code",
   "execution_count": 33,
   "id": "b8dfd1af-c042-4198-94d4-d33d9ff4c19b",
   "metadata": {},
   "outputs": [
    {
     "data": {
      "application/vnd.jupyter.widget-view+json": {
       "model_id": "ece47ed36070461b92340ae5711d2580",
       "version_major": 2,
       "version_minor": 0
      },
      "text/html": [
       "Cannot show widget. You probably want to rerun the code cell above (<i>Click in the code cell, and press Shift+Enter <kbd>⇧</kbd>+<kbd>↩</kbd></i>)."
      ],
      "text/plain": [
       "Cannot show ipywidgets in text"
      ]
     },
     "metadata": {},
     "output_type": "display_data"
    }
   ],
   "source": [
    "import solara\n",
    "import random\n",
    "\n",
    "jokes = [\n",
    "    \"Why don't programmers like nature? It has too many bugs.\",\n",
    "    \"How do you comfort a JavaScript bug? You console it.\",\n",
    "    \"Why do Python programmers prefer dark mode? Because light attracts bugs!\"\n",
    "]\n",
    "\n",
    "@solara.component\n",
    "def Page():\n",
    "    joke, set_joke = solara.use_state(\"Click the button to get a joke!\")  # ✅ Correctly unpack state\n",
    "\n",
    "    def get_joke():\n",
    "        set_joke(random.choice(jokes))  # ✅ Use set_joke() to update state\n",
    "\n",
    "    solara.Text(joke, style=\"font-size: 18px; font-weight: bold;\")  # ✅ Use 'joke' directly\n",
    "    solara.Button(\"Tell me a joke\", on_click=get_joke)\n",
    "\n",
    "solara.display(Page())  # ✅ Use Page() instead of Page\n"
   ]
  },
  {
   "cell_type": "code",
   "execution_count": 40,
   "id": "3d2aab9e-5885-4be9-992d-9cd6b82712b0",
   "metadata": {},
   "outputs": [
    {
     "data": {
      "application/vnd.jupyter.widget-view+json": {
       "model_id": "c28d4aab84e2479494e0341716ebe4d4",
       "version_major": 2,
       "version_minor": 0
      },
      "text/html": [
       "Cannot show widget. You probably want to rerun the code cell above (<i>Click in the code cell, and press Shift+Enter <kbd>⇧</kbd>+<kbd>↩</kbd></i>)."
      ],
      "text/plain": [
       "Cannot show ipywidgets in text"
      ]
     },
     "metadata": {},
     "output_type": "display_data"
    },
    {
     "data": {
      "image/png": "[encoded data removed]",
      "text/plain": [
       "<Figure size 640x480 with 1 Axes>"
      ]
     },
     "metadata": {},
     "output_type": "display_data"
    }
   ],
   "source": [
    "import solara\n",
    "import matplotlib.pyplot as plt\n",
    "import numpy as np\n",
    "\n",
    "@solara.component\n",
    "def Page():\n",
    "    options = [\"Python\", \"JavaScript\", \"C++\", \"Java\"]\n",
    "    votes = {option: solara.use_state(0) for option in options}  # ✅ Define state inside component\n",
    "\n",
    "    def vote(option):\n",
    "        votes[option][1](votes[option][0] + 1)  # ✅ Correct state update\n",
    "\n",
    "    labels = list(votes.keys())\n",
    "    sizes = [votes[option][0] for option in options]  # ✅ Extract values properly\n",
    "\n",
    "    # ✅ Avoid error: Ensure pie chart has at least one non-zero value\n",
    "    if sum(sizes) == 0:\n",
    "        fig, ax = plt.subplots()\n",
    "        ax.text(0.5, 0.5, \"No votes yet!\", fontsize=14, ha=\"center\", va=\"center\")\n",
    "        ax.set_xticks([])  # Hide axes\n",
    "        ax.set_yticks([])\n",
    "    else:\n",
    "        fig, ax = plt.subplots()\n",
    "        ax.pie(sizes, labels=labels, autopct=\"%1.1f%%\")\n",
    "\n",
    "    solara.FigureMatplotlib(fig)\n",
    "\n",
    "    for option in options:\n",
    "        solara.Button(f\"Vote for {option}\", on_click=lambda opt=option: vote(opt))  # ✅ Fix lambda issue\n",
    "\n",
    "solara.display(Page())  # ✅ Correct for Jupyter"
   ]
  },
  {
   "cell_type": "code",
   "execution_count": null,
   "id": "41e2903f-06a4-477e-86bd-24c2ef5eb039",
   "metadata": {},
   "outputs": [],
   "source": []
  }
 ],
 "metadata": {
  "kernelspec": {
   "display_name": "Python 3 (ipykernel)",
   "language": "python",
   "name": "python3"
  },
  "language_info": {
   "codemirror_mode": {
    "name": "ipython",
    "version": 3
   },
   "file_extension": ".py",
   "mimetype": "text/x-python",
   "name": "python",
   "nbconvert_exporter": "python",
   "pygments_lexer": "ipython3",
   "version": "3.12.7"
  }
 },
 "nbformat": 4,
 "nbformat_minor": 5
}
